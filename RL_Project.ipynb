{
 "cells": [
  {
   "cell_type": "code",
   "execution_count": 1,
   "metadata": {
    "id": "EBkYx4Ekat0h",
    "tags": []
   },
   "outputs": [],
   "source": [
    "import pandas as pd\n",
    "import numpy as np\n",
    "import numpy as np\n",
    "import torch\n",
    "import torch.nn as nn\n",
    "import torch.optim as optim\n",
    "from collections import deque\n",
    "import random\n",
    "import matplotlib.pyplot as plt\n",
    "import pickle\n"
   ]
  },
  {
   "cell_type": "code",
   "execution_count": 2,
   "metadata": {
    "id": "3cNrUme01jJb",
    "tags": []
   },
   "outputs": [],
   "source": [
    "device = torch.device(\"cuda:0\" if torch.cuda.is_available() else \"cpu\")"
   ]
  },
  {
   "cell_type": "code",
   "execution_count": 3,
   "metadata": {
    "id": "og0vVyjdae0K",
    "tags": []
   },
   "outputs": [],
   "source": [
    "df_statistics = pd.read_csv(\"Statistics.csv\")"
   ]
  },
  {
   "cell_type": "code",
   "execution_count": 4,
   "metadata": {
    "colab": {
     "base_uri": "https://localhost:8080/",
     "height": 461
    },
    "id": "gAErrDrnounM",
    "outputId": "a3909716-edce-4668-cfb0-5b121b9e5ad6",
    "tags": []
   },
   "outputs": [
    {
     "data": {
      "text/html": [
       "<div>\n",
       "<style scoped>\n",
       "    .dataframe tbody tr th:only-of-type {\n",
       "        vertical-align: middle;\n",
       "    }\n",
       "\n",
       "    .dataframe tbody tr th {\n",
       "        vertical-align: top;\n",
       "    }\n",
       "\n",
       "    .dataframe thead th {\n",
       "        text-align: right;\n",
       "    }\n",
       "</style>\n",
       "<table border=\"1\" class=\"dataframe\">\n",
       "  <thead>\n",
       "    <tr style=\"text-align: right;\">\n",
       "      <th></th>\n",
       "      <th>Unnamed: 0</th>\n",
       "      <th>pickup_hour</th>\n",
       "      <th>pickup_location</th>\n",
       "      <th>dropoff_location</th>\n",
       "      <th>trip_distance</th>\n",
       "      <th>trip_time_in_secs</th>\n",
       "      <th>total_amount</th>\n",
       "      <th>number_of_transitions</th>\n",
       "      <th>count</th>\n",
       "      <th>counts</th>\n",
       "      <th>transition_probability</th>\n",
       "    </tr>\n",
       "  </thead>\n",
       "  <tbody>\n",
       "    <tr>\n",
       "      <th>0</th>\n",
       "      <td>0</td>\n",
       "      <td>0.0</td>\n",
       "      <td>7002</td>\n",
       "      <td>7002</td>\n",
       "      <td>1.660000</td>\n",
       "      <td>420.000000</td>\n",
       "      <td>44.500000</td>\n",
       "      <td>2</td>\n",
       "      <td>2.0</td>\n",
       "      <td>2</td>\n",
       "      <td>1.000000</td>\n",
       "    </tr>\n",
       "    <tr>\n",
       "      <th>1</th>\n",
       "      <td>1</td>\n",
       "      <td>0.0</td>\n",
       "      <td>7008</td>\n",
       "      <td>7008</td>\n",
       "      <td>2.230000</td>\n",
       "      <td>660.000000</td>\n",
       "      <td>11.000000</td>\n",
       "      <td>1</td>\n",
       "      <td>1.0</td>\n",
       "      <td>1</td>\n",
       "      <td>1.000000</td>\n",
       "    </tr>\n",
       "    <tr>\n",
       "      <th>2</th>\n",
       "      <td>2</td>\n",
       "      <td>0.0</td>\n",
       "      <td>7011</td>\n",
       "      <td>7011</td>\n",
       "      <td>0.000000</td>\n",
       "      <td>0.000000</td>\n",
       "      <td>5.000000</td>\n",
       "      <td>1</td>\n",
       "      <td>1.0</td>\n",
       "      <td>1</td>\n",
       "      <td>1.000000</td>\n",
       "    </tr>\n",
       "    <tr>\n",
       "      <th>3</th>\n",
       "      <td>3</td>\n",
       "      <td>0.0</td>\n",
       "      <td>7017</td>\n",
       "      <td>10018</td>\n",
       "      <td>3.420000</td>\n",
       "      <td>1500.000000</td>\n",
       "      <td>19.000000</td>\n",
       "      <td>1</td>\n",
       "      <td>1.0</td>\n",
       "      <td>1</td>\n",
       "      <td>1.000000</td>\n",
       "    </tr>\n",
       "    <tr>\n",
       "      <th>4</th>\n",
       "      <td>4</td>\n",
       "      <td>0.0</td>\n",
       "      <td>7020</td>\n",
       "      <td>10003</td>\n",
       "      <td>7.610000</td>\n",
       "      <td>1500.000000</td>\n",
       "      <td>32.900000</td>\n",
       "      <td>1</td>\n",
       "      <td>8.0</td>\n",
       "      <td>8</td>\n",
       "      <td>0.125000</td>\n",
       "    </tr>\n",
       "    <tr>\n",
       "      <th>...</th>\n",
       "      <td>...</td>\n",
       "      <td>...</td>\n",
       "      <td>...</td>\n",
       "      <td>...</td>\n",
       "      <td>...</td>\n",
       "      <td>...</td>\n",
       "      <td>...</td>\n",
       "      <td>...</td>\n",
       "      <td>...</td>\n",
       "      <td>...</td>\n",
       "      <td>...</td>\n",
       "    </tr>\n",
       "    <tr>\n",
       "      <th>71914</th>\n",
       "      <td>71914</td>\n",
       "      <td>23.0</td>\n",
       "      <td>97003</td>\n",
       "      <td>10020</td>\n",
       "      <td>1.340000</td>\n",
       "      <td>420.000000</td>\n",
       "      <td>8.000000</td>\n",
       "      <td>1</td>\n",
       "      <td>NaN</td>\n",
       "      <td>546</td>\n",
       "      <td>0.001832</td>\n",
       "    </tr>\n",
       "    <tr>\n",
       "      <th>71915</th>\n",
       "      <td>71915</td>\n",
       "      <td>23.0</td>\n",
       "      <td>97003</td>\n",
       "      <td>10065</td>\n",
       "      <td>1.510000</td>\n",
       "      <td>300.000000</td>\n",
       "      <td>7.500000</td>\n",
       "      <td>1</td>\n",
       "      <td>NaN</td>\n",
       "      <td>546</td>\n",
       "      <td>0.001832</td>\n",
       "    </tr>\n",
       "    <tr>\n",
       "      <th>71916</th>\n",
       "      <td>71916</td>\n",
       "      <td>23.0</td>\n",
       "      <td>97003</td>\n",
       "      <td>11024</td>\n",
       "      <td>0.000000</td>\n",
       "      <td>0.000000</td>\n",
       "      <td>110.400000</td>\n",
       "      <td>1</td>\n",
       "      <td>NaN</td>\n",
       "      <td>546</td>\n",
       "      <td>0.001832</td>\n",
       "    </tr>\n",
       "    <tr>\n",
       "      <th>71917</th>\n",
       "      <td>71917</td>\n",
       "      <td>23.0</td>\n",
       "      <td>97003</td>\n",
       "      <td>11211</td>\n",
       "      <td>3.640000</td>\n",
       "      <td>1020.000000</td>\n",
       "      <td>16.000000</td>\n",
       "      <td>1</td>\n",
       "      <td>NaN</td>\n",
       "      <td>546</td>\n",
       "      <td>0.001832</td>\n",
       "    </tr>\n",
       "    <tr>\n",
       "      <th>71918</th>\n",
       "      <td>71918</td>\n",
       "      <td>23.0</td>\n",
       "      <td>97003</td>\n",
       "      <td>97003</td>\n",
       "      <td>2.392375</td>\n",
       "      <td>472.673469</td>\n",
       "      <td>20.413785</td>\n",
       "      <td>539</td>\n",
       "      <td>NaN</td>\n",
       "      <td>546</td>\n",
       "      <td>0.987179</td>\n",
       "    </tr>\n",
       "  </tbody>\n",
       "</table>\n",
       "<p>71919 rows × 11 columns</p>\n",
       "</div>"
      ],
      "text/plain": [
       "       Unnamed: 0  pickup_hour  pickup_location  dropoff_location   \n",
       "0               0          0.0             7002              7002  \\\n",
       "1               1          0.0             7008              7008   \n",
       "2               2          0.0             7011              7011   \n",
       "3               3          0.0             7017             10018   \n",
       "4               4          0.0             7020             10003   \n",
       "...           ...          ...              ...               ...   \n",
       "71914       71914         23.0            97003             10020   \n",
       "71915       71915         23.0            97003             10065   \n",
       "71916       71916         23.0            97003             11024   \n",
       "71917       71917         23.0            97003             11211   \n",
       "71918       71918         23.0            97003             97003   \n",
       "\n",
       "       trip_distance  trip_time_in_secs  total_amount  number_of_transitions   \n",
       "0           1.660000         420.000000     44.500000                      2  \\\n",
       "1           2.230000         660.000000     11.000000                      1   \n",
       "2           0.000000           0.000000      5.000000                      1   \n",
       "3           3.420000        1500.000000     19.000000                      1   \n",
       "4           7.610000        1500.000000     32.900000                      1   \n",
       "...              ...                ...           ...                    ...   \n",
       "71914       1.340000         420.000000      8.000000                      1   \n",
       "71915       1.510000         300.000000      7.500000                      1   \n",
       "71916       0.000000           0.000000    110.400000                      1   \n",
       "71917       3.640000        1020.000000     16.000000                      1   \n",
       "71918       2.392375         472.673469     20.413785                    539   \n",
       "\n",
       "       count  counts  transition_probability  \n",
       "0        2.0       2                1.000000  \n",
       "1        1.0       1                1.000000  \n",
       "2        1.0       1                1.000000  \n",
       "3        1.0       1                1.000000  \n",
       "4        8.0       8                0.125000  \n",
       "...      ...     ...                     ...  \n",
       "71914    NaN     546                0.001832  \n",
       "71915    NaN     546                0.001832  \n",
       "71916    NaN     546                0.001832  \n",
       "71917    NaN     546                0.001832  \n",
       "71918    NaN     546                0.987179  \n",
       "\n",
       "[71919 rows x 11 columns]"
      ]
     },
     "execution_count": 4,
     "metadata": {},
     "output_type": "execute_result"
    }
   ],
   "source": [
    "df_statistics"
   ]
  },
  {
   "cell_type": "code",
   "execution_count": 5,
   "metadata": {
    "id": "2IqHSdzKasik",
    "tags": []
   },
   "outputs": [],
   "source": [
    "listed_pickup_zipcodes = df_statistics['pickup_location'].unique()\n",
    "listed_dropoff_zipcodes = df_statistics['dropoff_location'].unique()\n",
    "\n",
    "zipcodes = list(set([*listed_pickup_zipcodes, *listed_dropoff_zipcodes]))"
   ]
  },
  {
   "cell_type": "code",
   "execution_count": 6,
   "metadata": {
    "id": "PdWXu1LhbPuI",
    "tags": []
   },
   "outputs": [],
   "source": [
    "class DQN(nn.Module):\n",
    "    def __init__(self, input_dim, output_dim):\n",
    "        super(DQN, self).__init__()\n",
    "        self.network = nn.Sequential(\n",
    "            nn.Linear(input_dim, 128),\n",
    "            nn.ReLU(),\n",
    "            nn.Linear(128, 256),\n",
    "            nn.ReLU(),\n",
    "            nn.Linear(256, output_dim)\n",
    "        )\n",
    "\n",
    "    def forward(self, x):\n",
    "        return self.network(x)"
   ]
  },
  {
   "cell_type": "markdown",
   "metadata": {},
   "source": [
    "# Environment Definition"
   ]
  },
  {
   "cell_type": "code",
   "execution_count": 7,
   "metadata": {
    "id": "pLf7MAAHa4_D",
    "tags": []
   },
   "outputs": [],
   "source": [
    "class CabDriver():\n",
    "    def __init__(self, cost, zipcodes):\n",
    "        self.t = 24\n",
    "        self.m = 60\n",
    "        self.zipcode_count = len(zipcodes)\n",
    "        self.zipcodes = zipcodes\n",
    "        self.action_space = [(p,q) for p in zipcodes for q in zipcodes]\n",
    "        self.action_space.insert(0,(-1,-1))\n",
    "        self.state_space = [(x,z, y) for x in range(self.t) for z in range(self.m) for y in zipcodes]\n",
    "        self.state_init = self.state_space[np.random.choice(len(self.state_space))]\n",
    "        self.cost = cost\n",
    "        self.reset()\n",
    "\n",
    "    def state_encoder(self, state):\n",
    "        curr_hour,curr_min, curr_loc= state\n",
    "\n",
    "        ## Initialize arrays\n",
    "        state_encodings = np.zeros(self.zipcode_count+self.t+self.m, dtype=int)\n",
    "        state_encodings[self.zipcodes.index(curr_loc)] = 1\n",
    "        state_encodings[self.zipcode_count+curr_hour] = 1\n",
    "        state_encodings[self.zipcode_count+self.t+ curr_min] = 1\n",
    "\n",
    "        return state_encodings\n",
    "\n",
    "    def requests(self, state):\n",
    "        curr_hour,_, curr_loc= state\n",
    "        actions_in_hour = [tuple(x)for x in df_statistics[(df_statistics[\"pickup_hour\"]==curr_hour)].sort_values(by=[\"total_amount\"],ascending=False)[[\"pickup_location\",\"dropoff_location\"]].head(10).to_records(index=False)]\n",
    "        # requests = np.random.poisson(10)\n",
    "        # possible_actions = random.sample(actions_in_hour, requests) + [(-1,-1)]\n",
    "        return actions_in_hour\n",
    "\n",
    "    def update_time(self, curr_hour, curr_minute, ride_duration):\n",
    "        ride_duration = int(ride_duration)\n",
    "        curr_second =  curr_hour * 3600 + curr_minute * 60 + ride_duration\n",
    "        m, s = divmod(curr_second, 60)\n",
    "        h, m = divmod(m, 60)\n",
    "        return h, m\n",
    "\n",
    "    def get_duration(self, curr_hour, pickup_loc, dropoff_loc):\n",
    "        temp = df_statistics[(df_statistics[\"pickup_hour\"]==curr_hour) & (df_statistics[\"pickup_location\"] == pickup_loc) & (df_statistics[\"dropoff_location\"] == dropoff_loc)]\n",
    "        if(temp.empty):\n",
    "          temp = df_statistics[(df_statistics[\"pickup_location\"] == pickup_loc) & (df_statistics[\"dropoff_location\"] == dropoff_loc)]\n",
    "        if(temp.empty):\n",
    "          return 15*60; # max duration is 15 minutes for a pickup\n",
    "        else:\n",
    "          return temp[\"trip_time_in_secs\"].mean()\n",
    "\n",
    "    def get_reward(self, curr_hour, pickup_loc, dropoff_loc):\n",
    "        temp = df_statistics[(df_statistics[\"pickup_hour\"]==curr_hour) & (df_statistics[\"pickup_location\"] == pickup_loc) & (df_statistics[\"dropoff_location\"] == dropoff_loc)]\n",
    "        if(temp.empty):\n",
    "          temp = df_statistics[(df_statistics[\"pickup_location\"] == pickup_loc) & (df_statistics[\"dropoff_location\"] == dropoff_loc)]\n",
    "        if(temp.empty):\n",
    "          return 0; # max duration is 15 minutes for a pickup\n",
    "        else:\n",
    "          return temp[\"total_amount\"].mean()\n",
    "\n",
    "    def get_next_state_and_time_func(self, state, action):\n",
    "        next_state = []\n",
    "\n",
    "        # Initialize various times\n",
    "        total_time   = 0\n",
    "        transit_time = 0\n",
    "        wait_time = 0\n",
    "        ride_time    = 0\n",
    "\n",
    "        curr_hour,curr_min, curr_loc = state\n",
    "        pickup_loc, drop_loc= action\n",
    "\n",
    "        \"\"\"\n",
    "         3 Possible Scenarios:\n",
    "           i) Refuse all requests. Engage in Idle Time (wait: 1hr (i.e. 1 time unit))\n",
    "           ii) Driver is already at the pickup spot\n",
    "           iii) Driver is not at the pickup spot\n",
    "        \"\"\"\n",
    "        if ((pickup_loc== -1) and (drop_loc == -1)):\n",
    "            wait_time = 3600\n",
    "            next_loc = curr_loc\n",
    "            reward = 0\n",
    "        elif (curr_loc == pickup_loc):\n",
    "            ride_time = self.get_duration(curr_hour, pickup_loc, drop_loc)\n",
    "            next_loc = drop_loc\n",
    "            reward = self.get_reward(curr_hour, pickup_loc, drop_loc)\n",
    "        else:\n",
    "            transit_time      = self.get_duration(curr_hour,curr_loc, pickup_loc)\n",
    "            new_hour, new_min = self.update_time(curr_hour,curr_min, transit_time)\n",
    "\n",
    "            ride_time = self.get_duration(curr_hour, pickup_loc, drop_loc)\n",
    "            next_loc  = drop_loc\n",
    "            reward = self.get_reward(curr_hour, pickup_loc, drop_loc)\n",
    "\n",
    "        # Calculate total time as sum of all durations\n",
    "        total_time = (wait_time + transit_time + ride_time)\n",
    "        next_hour, next_min = self.update_time(curr_hour, curr_min, total_time)\n",
    "\n",
    "        # Finding next_state using the next_loc and the next time states.\n",
    "        next_state = (next_hour, next_min, next_loc)\n",
    "\n",
    "        return next_state,reward, wait_time, transit_time, ride_time\n",
    "\n",
    "    def reward_func(self, reward, wait_time, transit_time, ride_time):\n",
    "        \"\"\"Takes in state, action and Time-matrix and returns the reward\"\"\"\n",
    "        if wait_time + transit_time > 0:\n",
    "            reward = reward - self.cost\n",
    "        \n",
    "        return reward\n",
    "\n",
    "    def step(self, state, action):\n",
    "        \"\"\"\n",
    "        Take a trip as cabby to get rewards next step and total time spent\n",
    "        \"\"\"\n",
    "        # Get the next state and the various time durations\n",
    "        next_state,reward, wait_time, transit_time, ride_time = self.get_next_state_and_time_func(state, action)\n",
    "        # print(next_state,reward, wait_time, transit_time, ride_time)\n",
    "\n",
    "        rewards = self.reward_func(reward, wait_time, transit_time, ride_time)\n",
    "        total_time = wait_time + transit_time + ride_time\n",
    "\n",
    "        return rewards, next_state, total_time\n",
    "\n",
    "    def reset(self):\n",
    "        return self.action_space, self.state_space, self.state_init\n"
   ]
  },
  {
   "cell_type": "markdown",
   "metadata": {},
   "source": [
    "# DQN Agent"
   ]
  },
  {
   "cell_type": "code",
   "execution_count": 8,
   "metadata": {
    "id": "tn9a1vcgbbIb",
    "tags": []
   },
   "outputs": [],
   "source": [
    "class DQNAgent:\n",
    "    def __init__(self, state_size, action_size):\n",
    "        # Define size of state and action\n",
    "        self.state_size = state_size\n",
    "        self.action_size = action_size\n",
    "\n",
    "        # Write here: Specify you hyper parameters for the DQN\n",
    "        self.epsilon = 1\n",
    "        self.epsilon_max = 1\n",
    "        self.epsilon_decay = 500\n",
    "        self.epsilon_min = 0.01\n",
    "        self.gamma = 0.99\n",
    "\n",
    "        self.batch_size = 32\n",
    "\n",
    "        # create replay memory using deque\n",
    "        self.memory = deque(maxlen=2000)\n",
    "\n",
    "        # Initialize the value of the states tracked\n",
    "        self.states_tracked = []\n",
    "\n",
    "        # create main model and target model\n",
    "        self.q_net_a, self.q_net_b, self.target_net = self.build_model()\n",
    "\n",
    "        self.optimizer_a = optim.Adam(self.q_net_a.parameters(), lr=0.00001)\n",
    "        self.optimizer_b = optim.Adam(self.q_net_b.parameters(), lr=0.00001)\n",
    "\n",
    "    def get_epsilon(self, step):\n",
    "        return self.epsilon_min + (self.epsilon_max - self.epsilon_min) * np.exp(-step / self.epsilon_decay)\n",
    "\n",
    "    def build_model(self):\n",
    "        \"\"\"\n",
    "        Function that takes in the agent and constructs the network\n",
    "        to train it\n",
    "        @return model\n",
    "        @params agent\n",
    "        \"\"\"\n",
    "        q_net_a = DQN(self.state_size, self.action_size)\n",
    "        q_net_b = DQN(self.state_size, self.action_size)\n",
    "        target_net = DQN(self.state_size, self.action_size)\n",
    "        target_net.load_state_dict(q_net_a.state_dict())\n",
    "        q_net_a.to(device)\n",
    "        q_net_b.to(device)\n",
    "        target_net.to(device)\n",
    "        return q_net_a, q_net_b, target_net\n",
    "\n",
    "    def select_action(self,state, q_net, epsilon, action_space):\n",
    "        if np.random.rand() < self.epsilon:\n",
    "            return random.choice(action_space)\n",
    "        else:\n",
    "            with torch.no_grad():\n",
    "                return action_space[torch.argmax(q_net(torch.Tensor(state))).item()]\n",
    "\n",
    "    def append_sample(self, state, action, reward, next_state, done):\n",
    "        \"\"\"appends the new agent run output to replay buffer\"\"\"\n",
    "        self.memory.append((state, action, reward, next_state, done))\n",
    "\n",
    "    def train_model(self, q_net_value, target_net, optimizer):\n",
    "        if len(self.memory) > self.batch_size:\n",
    "            # Sample batch from the memory\n",
    "            batch = random.sample(self.memory, self.batch_size)\n",
    "            states, actions, rewards, next_states, dones = zip(*batch)\n",
    "\n",
    "            states = torch.tensor(states, dtype=torch.float32).to(device)\n",
    "            actions = torch.tensor(actions, dtype=torch.int64).view(-1, 1).to(device)\n",
    "            rewards = torch.tensor(rewards, dtype=torch.float32).view(-1, 1).to(device)\n",
    "            next_states = torch.tensor(next_states, dtype=torch.float32).to(device)\n",
    "            dones = torch.tensor(dones, dtype=torch.float32).view(-1, 1).to(device)\n",
    "            res = q_net_value(states)\n",
    "            q_values = torch.gather(res, dim=1, index=actions)\n",
    "\n",
    "            with torch.no_grad():\n",
    "                next_q_values = torch.max(target_net(next_states), dim=1, keepdim=True)[0]\n",
    "                target_q_values = rewards + (1 - dones) * self.gamma * next_q_values\n",
    "\n",
    "            loss = torch.mean((q_values - target_q_values) ** 2)\n",
    "            # print(loss)\n",
    "            optimizer.zero_grad()\n",
    "            loss.backward()\n",
    "            optimizer.step()\n",
    "\n",
    "\n",
    "    def save(self, name):\n",
    "        with open(name, 'wb') as file:\n",
    "            pickle.dump(self.model, file,pickle.HIGHEST_PROTOCOL)"
   ]
  },
  {
   "cell_type": "markdown",
   "metadata": {},
   "source": [
    "# Random Agent"
   ]
  },
  {
   "cell_type": "code",
   "execution_count": 9,
   "metadata": {
    "id": "0_zGBYyS0OUP",
    "tags": []
   },
   "outputs": [],
   "source": [
    "class RandomAgent:\n",
    "    def __init__(self):\n",
    "      pass\n",
    "\n",
    "    def select_action(self,action_space):\n",
    "        return random.choice(action_space)"
   ]
  },
  {
   "cell_type": "code",
   "execution_count": 10,
   "metadata": {
    "id": "F7JTuR8_bcYY",
    "tags": []
   },
   "outputs": [],
   "source": [
    "episode_time = 24* 60*60\n",
    "n_episodes = 5000\n",
    "max_steps = 200\n",
    "env = CabDriver(zipcodes=zipcodes,cost = 3)\n",
    "action_space, state_space, state = env.reset()\n",
    "\n",
    "state_size = env.state_encoder(state_space[0])\n",
    "action_size = len(action_space)\n",
    "\n",
    "# Invoke agent class\n",
    "ddqn_agent = DQNAgent(action_size=action_size, state_size=len(state_size))\n",
    "randomAgent = RandomAgent()\n",
    "rewards_per_episode, episodes = [], []"
   ]
  },
  {
   "cell_type": "code",
   "execution_count": 11,
   "metadata": {
    "colab": {
     "base_uri": "https://localhost:8080/"
    },
    "id": "jJRhxvnyliqE",
    "outputId": "372aec24-4f58-4b39-97b5-32b884cc2331",
    "tags": []
   },
   "outputs": [
    {
     "name": "stdout",
     "output_type": "stream",
     "text": [
      "Episode 0: Reward = 2768.26\n"
     ]
    },
    {
     "name": "stderr",
     "output_type": "stream",
     "text": [
      "C:\\Users\\Pavel\\AppData\\Local\\Temp\\ipykernel_5240\\2999418014.py:64: UserWarning: Creating a tensor from a list of numpy.ndarrays is extremely slow. Please consider converting the list to a single numpy.ndarray with numpy.array() before converting to a tensor. (Triggered internally at ..\\torch\\csrc\\utils\\tensor_new.cpp:248.)\n",
      "  states = torch.tensor(states, dtype=torch.float32).to(device)\n"
     ]
    },
    {
     "name": "stdout",
     "output_type": "stream",
     "text": [
      "Episode 100: Reward = 2095.51\n",
      "Episode 200: Reward = 2573.08\n",
      "Episode 300: Reward = 2256.7999999999997\n",
      "Episode 400: Reward = 3387.2600000000007\n",
      "Episode 500: Reward = 2355.55\n",
      "Episode 600: Reward = 2347.2200000000003\n",
      "Episode 700: Reward = 2751.06\n",
      "Episode 800: Reward = 3177.500000000001\n",
      "Episode 900: Reward = 2112.25\n",
      "Episode 1000: Reward = 2750.325\n",
      "Episode 1100: Reward = 1930.22\n",
      "Episode 1200: Reward = 3048.3600000000006\n",
      "Episode 1300: Reward = 2026.7999999999997\n",
      "Episode 1400: Reward = 2753.6500000000005\n",
      "Episode 1500: Reward = 1933.6999999999998\n",
      "Episode 1600: Reward = 2334.6049999999996\n",
      "Episode 1700: Reward = 2343.65\n",
      "Episode 1800: Reward = 2505.7999999999993\n",
      "Episode 1900: Reward = 2869.97\n",
      "Episode 2000: Reward = 2218.9700000000003\n",
      "Episode 2100: Reward = 1859.85\n",
      "Episode 2200: Reward = 1843.14\n",
      "Episode 2300: Reward = 2649.86\n",
      "Episode 2400: Reward = 1867.5499999999997\n",
      "Episode 2500: Reward = 1746.77\n",
      "Episode 2600: Reward = 2492.4\n",
      "Episode 2700: Reward = 2680.2\n",
      "Episode 2800: Reward = 1755.06\n",
      "Episode 2900: Reward = 2048.2749999999996\n",
      "Episode 3000: Reward = 2962.9\n",
      "Episode 3100: Reward = 2586.835\n",
      "Episode 3200: Reward = 2054.025\n",
      "Episode 3300: Reward = 2234.435\n",
      "Episode 3400: Reward = 1824.6049999999998\n",
      "Episode 3500: Reward = 1914.3849999999998\n",
      "Episode 3600: Reward = 1701.0749999999998\n",
      "Episode 3700: Reward = 1843.8999999999996\n",
      "Episode 3800: Reward = 2851.6600000000003\n",
      "Episode 3900: Reward = 2030.1499999999999\n",
      "Episode 4000: Reward = 2247.3999999999996\n",
      "Episode 4100: Reward = 1621.65\n",
      "Episode 4200: Reward = 1848.25\n",
      "Episode 4300: Reward = 1926.35\n",
      "Episode 4400: Reward = 2653.735\n",
      "Episode 4500: Reward = 2128.75\n",
      "Episode 4600: Reward = 2030.6000000000001\n",
      "Episode 4700: Reward = 2978.0600000000004\n",
      "Episode 4800: Reward = 2391.7999999999997\n",
      "Episode 4900: Reward = 2884.42\n"
     ]
    }
   ],
   "source": [
    "for episode in range(n_episodes):\n",
    "    _,_, state = env.reset()\n",
    "    score = 0\n",
    "    epsilon = ddqn_agent.get_epsilon(episode)\n",
    "    ddqn_done = False\n",
    "    for step in range(max_steps):\n",
    "        if step % 2 == 0:\n",
    "            optimizer, q_net, target_net = ddqn_agent.optimizer_a, ddqn_agent.q_net_a, ddqn_agent.q_net_b\n",
    "        else:\n",
    "            optimizer, q_net, target_net = ddqn_agent.optimizer_b, ddqn_agent.q_net_b, ddqn_agent.q_net_a\n",
    "\n",
    "        requests = env.requests(state)\n",
    "        ddqn_action = ddqn_agent.select_action(state, q_net, epsilon, requests)\n",
    "        ddqn_reward, ddqn_next_state, ddqn_duration =  env.step(state, ddqn_action)\n",
    "        ddqn_next_state_hour, ddqn_next_state_min, _ = ddqn_next_state\n",
    "        if(ddqn_next_state_hour * 3600 + ddqn_next_state_min * 60 >= episode_time):\n",
    "          break\n",
    "        else:\n",
    "          ddqn_agent.append_sample(env.state_encoder(state), env.action_space.index(ddqn_action), ddqn_reward, env.state_encoder(ddqn_next_state), False)\n",
    "          ddqn_agent.train_model(q_net, target_net, optimizer)\n",
    "          score += ddqn_reward\n",
    "          state = ddqn_next_state\n",
    "    rewards_per_episode.append(score)\n",
    "    if episode % 100 == 0:\n",
    "          print(f\"Episode {episode}: Reward = {score}\")"
   ]
  },
  {
   "cell_type": "code",
   "execution_count": 25,
   "metadata": {
    "tags": []
   },
   "outputs": [
    {
     "data": {
      "image/png": "[encoded data removed]",
      "text/plain": [
       "<Figure size 640x480 with 1 Axes>"
      ]
     },
     "metadata": {},
     "output_type": "display_data"
    }
   ],
   "source": [
    "plt.plot(range(n_episodes), rewards_per_episode)\n",
    "plt.xlabel(\"Iterations\")\n",
    "plt.ylabel(\"Reward\")\n",
    "plt.show()"
   ]
  },
  {
   "cell_type": "markdown",
   "metadata": {},
   "source": [
    "# NDQN Agent"
   ]
  },
  {
   "cell_type": "code",
   "execution_count": 14,
   "metadata": {
    "id": "CcnJqCitLEku"
   },
   "outputs": [],
   "source": [
    "class NDQNAgent:\n",
    "    def __init__(self, state_size, action_size):\n",
    "        # Define size of state and action\n",
    "        self.state_size = state_size\n",
    "        self.action_size = action_size\n",
    "\n",
    "        # Write here: Specify you hyper parameters for the DQN\n",
    "        self.epsilon = 1\n",
    "        self.epsilon_max = 1\n",
    "        self.epsilon_decay = 500\n",
    "        self.epsilon_min = 0.01\n",
    "        self.gamma = 0.99\n",
    "\n",
    "        self.batch_size = 32\n",
    "\n",
    "        # create replay memory using deque\n",
    "        self.memory = deque(maxlen=2000)\n",
    "\n",
    "        # Initialize the value of the states tracked\n",
    "        self.states_tracked = []\n",
    "\n",
    "        # create main model and target model\n",
    "        self.q_net, self.target_net = self.build_model()\n",
    "\n",
    "        self.optimizer = optim.Adam(self.q_net.parameters(), lr=0.00001)\n",
    "\n",
    "    def get_epsilon(self, step):\n",
    "        return self.epsilon_min + (self.epsilon_max - self.epsilon_min) * np.exp(-step / self.epsilon_decay)\n",
    "\n",
    "    def build_model(self):\n",
    "        \"\"\"\n",
    "        Function that takes in the agent and constructs the network\n",
    "        to train it\n",
    "        @return model\n",
    "        @params agent\n",
    "        \"\"\"\n",
    "        q_net_a = DQN(self.state_size, self.action_size)\n",
    "        target_net = DQN(self.state_size, self.action_size)\n",
    "        target_net.load_state_dict(q_net_a.state_dict())\n",
    "        q_net_a.to(device)\n",
    "        target_net.to(device)\n",
    "        return q_net_a, target_net\n",
    "\n",
    "    def select_action(self,state, epsilon, action_space):\n",
    "        if np.random.rand() < self.epsilon:\n",
    "            return random.choice(action_space)\n",
    "        else:\n",
    "            with torch.no_grad():\n",
    "                return action_space[torch.argmax(self.q_net(torch.Tensor(state))).item()]\n",
    "\n",
    "    def append_sample(self, state, action, reward, next_state, done):\n",
    "        \"\"\"appends the new agent run output to replay buffer\"\"\"\n",
    "        self.memory.append((state, action, reward, next_state, done))\n",
    "\n",
    "    def train_model(self):\n",
    "        if len(self.memory) > self.batch_size:\n",
    "            # Sample batch from the memory\n",
    "            batch = random.sample(self.memory, self.batch_size)\n",
    "            states, actions, rewards, next_states, dones = zip(*batch)\n",
    "\n",
    "            states = torch.tensor(states, dtype=torch.float32).to(device)\n",
    "            actions = torch.tensor(actions, dtype=torch.int64).view(-1, 1).to(device)\n",
    "            rewards = torch.tensor(rewards, dtype=torch.float32).view(-1, 1).to(device)\n",
    "            next_states = torch.tensor(next_states, dtype=torch.float32).to(device)\n",
    "            dones = torch.tensor(dones, dtype=torch.float32).view(-1, 1).to(device)\n",
    "            res = self.q_net(states)\n",
    "            q_values = torch.gather(res, dim=1, index=actions)\n",
    "\n",
    "            with torch.no_grad():\n",
    "                next_q_values = torch.max(self.target_net(next_states), dim=1, keepdim=True)[0]\n",
    "                target_q_values = rewards + (1 - dones) * self.gamma * next_q_values\n",
    "\n",
    "            loss = torch.mean((q_values - target_q_values) ** 2)\n",
    "            # print(loss)\n",
    "            self.optimizer.zero_grad()\n",
    "            loss.backward()\n",
    "            self.optimizer.step()\n",
    "\n",
    "\n",
    "    def save(self, name):\n",
    "        with open(name, 'wb') as file:\n",
    "            pickle.dump(self.model, file,pickle.HIGHEST_PROTOCOL)"
   ]
  },
  {
   "cell_type": "code",
   "execution_count": 15,
   "metadata": {
    "id": "tgQlNiRXORCj"
   },
   "outputs": [],
   "source": [
    "n_agent = NDQNAgent(action_size=action_size, state_size=len(state_size))\n",
    "n_rewards_per_episode = []\n",
    "update_target_net_freq = 50"
   ]
  },
  {
   "cell_type": "code",
   "execution_count": 16,
   "metadata": {
    "colab": {
     "background_save": true,
     "base_uri": "https://localhost:8080/"
    },
    "id": "MHd0XJt0b-02",
    "outputId": "01f6621a-5c06-4b03-bca9-1cdcca9a9c79"
   },
   "outputs": [
    {
     "name": "stdout",
     "output_type": "stream",
     "text": [
      "Episode 0: Reward = 2481.365\n",
      "Episode 100: Reward = 2387.11\n",
      "Episode 200: Reward = 2542.3\n",
      "Episode 300: Reward = 3100.2000000000003\n",
      "Episode 400: Reward = 2097.85\n",
      "Episode 500: Reward = 1927.75\n",
      "Episode 600: Reward = 2255.4100000000003\n",
      "Episode 700: Reward = 3218.2000000000003\n",
      "Episode 800: Reward = 1888.51\n",
      "Episode 900: Reward = 2266.88\n",
      "Episode 1000: Reward = 2348.1499999999996\n",
      "Episode 1100: Reward = 3115.9200000000005\n",
      "Episode 1200: Reward = 2360.51\n",
      "Episode 1300: Reward = 2288.75\n",
      "Episode 1400: Reward = 2407.02\n",
      "Episode 1500: Reward = 2335.775\n",
      "Episode 1600: Reward = 2848.895\n",
      "Episode 1700: Reward = 2617.72\n",
      "Episode 1800: Reward = 2971.6850000000004\n",
      "Episode 1900: Reward = 2058.125\n",
      "Episode 2000: Reward = 2259.7\n",
      "Episode 2100: Reward = 2433.33\n",
      "Episode 2200: Reward = 2744.385\n",
      "Episode 2300: Reward = 2442.03\n",
      "Episode 2400: Reward = 2596.0199999999995\n",
      "Episode 2500: Reward = 2126.795\n",
      "Episode 2600: Reward = 2801.1\n",
      "Episode 2700: Reward = 2606.8600000000006\n",
      "Episode 2800: Reward = 3094.1100000000006\n",
      "Episode 2900: Reward = 2613.4800000000005\n",
      "Episode 3000: Reward = 2371.2799999999997\n",
      "Episode 3100: Reward = 1928.1750000000002\n",
      "Episode 3200: Reward = 2113.25\n",
      "Episode 3300: Reward = 1821.85\n",
      "Episode 3400: Reward = 1941.175\n",
      "Episode 3500: Reward = 1978.3999999999999\n",
      "Episode 3600: Reward = 2128.725\n",
      "Episode 3700: Reward = 2529.06\n",
      "Episode 3800: Reward = 2067.6\n",
      "Episode 3900: Reward = 2306.4\n",
      "Episode 4000: Reward = 1761.7599999999998\n",
      "Episode 4100: Reward = 2179.67\n",
      "Episode 4200: Reward = 2299.8999999999996\n",
      "Episode 4300: Reward = 3057.3000000000006\n",
      "Episode 4400: Reward = 2332.0699999999997\n",
      "Episode 4500: Reward = 2322.15\n",
      "Episode 4600: Reward = 2887.01\n",
      "Episode 4700: Reward = 1992.71\n",
      "Episode 4800: Reward = 2652.185\n",
      "Episode 4900: Reward = 2634.15\n"
     ]
    }
   ],
   "source": [
    "for episode in range(n_episodes):\n",
    "    _,_, state = env.reset()\n",
    "    score = 0\n",
    "    epsilon = n_agent.get_epsilon(episode)\n",
    "    for step in range(max_steps):\n",
    "        requests = env.requests(state)\n",
    "        action = n_agent.select_action(state, epsilon, requests)\n",
    "        reward, next_state, duration =  env.step(state, action)\n",
    "        next_state_hour, next_state_min, _ = next_state\n",
    "        if(next_state_hour * 3600 + next_state_min * 60 >= episode_time):\n",
    "          break\n",
    "        else:\n",
    "          n_agent.append_sample(env.state_encoder(state), env.action_space.index(action), reward, env.state_encoder(next_state), False)\n",
    "          n_agent.train_model()\n",
    "          score += reward\n",
    "          state = next_state\n",
    "    n_rewards_per_episode.append(score)\n",
    "    if episode % 100 == 0:\n",
    "          print(f\"Episode {episode}: Reward = {score}\")\n",
    "    if episode % update_target_net_freq == 0:\n",
    "            n_agent.target_net.load_state_dict(q_net.state_dict())"
   ]
  },
  {
   "cell_type": "markdown",
   "metadata": {},
   "source": [
    "# Evaluation"
   ]
  },
  {
   "cell_type": "code",
   "execution_count": 26,
   "metadata": {
    "tags": []
   },
   "outputs": [
    {
     "data": {
      "image/png": "[encoded data removed]",
      "text/plain": [
       "<Figure size 640x480 with 1 Axes>"
      ]
     },
     "metadata": {},
     "output_type": "display_data"
    }
   ],
   "source": [
    "plt.plot(range(n_episodes), n_rewards_per_episode)\n",
    "plt.xlabel(\"Iterations\")\n",
    "plt.ylabel(\"Reward\")\n",
    "plt.show()"
   ]
  },
 {
      "cell_type": "code",
      "execution_count": 20,
      "metadata": {
        "tags": [],
        "colab": {
          "base_uri": "https://localhost:8080/"
        },
        "id": "xVq0mySbpPvS",
        "outputId": "5f612f54-5f94-4abc-b777-07778712679d"
      },
      "outputs": [
        {
          "output_type": "stream",
          "name": "stdout",
          "text": [
            "Episode 0: Reward = 1247.0349999999999\n",
            "Episode 100: Reward = 1365.4\n",
            "Episode 200: Reward = 1666.6599999999999\n",
            "Episode 300: Reward = 1351.175\n",
            "Episode 400: Reward = 1567.3999999999999\n",
            "Episode 500: Reward = 1497.62\n",
            "Episode 600: Reward = 1636.55\n",
            "Episode 700: Reward = 1464.1499999999999\n",
            "Episode 800: Reward = 1363.2\n",
            "Episode 900: Reward = 1430.12\n",
            "Episode 1000: Reward = 1852.0\n",
            "Episode 1100: Reward = 1442.9099999999999\n",
            "Episode 1200: Reward = 1470.1\n",
            "Episode 1300: Reward = 1320.3\n",
            "Episode 1400: Reward = 1584.1999999999998\n",
            "Episode 1500: Reward = 1386.3749999999998\n",
            "Episode 1600: Reward = 1159.0\n",
            "Episode 1700: Reward = 1505.7\n",
            "Episode 1800: Reward = 2222.9\n",
            "Episode 1900: Reward = 1311.9499999999998\n",
            "Episode 2000: Reward = 1677.85\n",
            "Episode 2100: Reward = 1837.35\n",
            "Episode 2200: Reward = 2027.9499999999998\n",
            "Episode 2300: Reward = 1333.5\n",
            "Episode 2400: Reward = 1394.07\n",
            "Episode 2500: Reward = 1466.7\n",
            "Episode 2600: Reward = 1551.86\n",
            "Episode 2700: Reward = 1995.8799999999999\n",
            "Episode 2800: Reward = 1522.76\n",
            "Episode 2900: Reward = 1301.2099999999998\n",
            "Episode 3000: Reward = 1377.5\n",
            "Episode 3100: Reward = 1449.9349999999997\n",
            "Episode 3200: Reward = 1328.25\n",
            "Episode 3300: Reward = 1468.625\n",
            "Episode 3400: Reward = 1809.925\n",
            "Episode 3500: Reward = 1535.2000000000003\n",
            "Episode 3600: Reward = 1576.5\n",
            "Episode 3700: Reward = 1588.72\n",
            "Episode 3800: Reward = 1275.6\n",
            "Episode 3900: Reward = 1703.7799999999997\n",
            "Episode 4000: Reward = 1728.845\n",
            "Episode 4100: Reward = 1911.2699999999998\n",
            "Episode 4200: Reward = 2179.02\n",
            "Episode 4300: Reward = 1373.925\n",
            "Episode 4400: Reward = 1730.26\n",
            "Episode 4500: Reward = 1334.1000000000001\n",
            "Episode 4600: Reward = 2287.27\n",
            "Episode 4700: Reward = 1832.3\n",
            "Episode 4800: Reward = 1477.3\n",
            "Episode 4900: Reward = 1955.36\n"
          ]
        }
      ],
      "source": [
        "random_rewards_per_episode = []\n",
        "\n",
        "for episode in range(n_episodes):\n",
        "    _,_,state = env.reset()\n",
        "    score = 0\n",
        "    for step in range(max_steps):\n",
        "        requests = env.requests(state)\n",
        "        action = randomAgent.select_action(requests)\n",
        "        reward, next_state, duration = env.step(state, action)\n",
        "        next_state_hour, next_state_min, _ = next_state\n",
        "        if(next_state_hour * 3600 + next_state_min * 60 >= episode_time):\n",
        "          break\n",
        "        else:\n",
        "          score += reward\n",
        "          state = next_state\n",
        "    random_rewards_per_episode.append(score)\n",
        "    if episode % 100 == 0:\n",
        "          print(f\"Episode {episode}: Reward = {score}\")\n"
      ]
    },
    {
      "cell_type": "code",
      "execution_count": 21,
      "metadata": {
        "tags": [],
        "id": "-51OuVJPpPvS",
        "outputId": "4681d102-9836-4f56-99c2-54d1ea0f846e",
        "colab": {
          "base_uri": "https://localhost:8080/",
          "height": 449
        }
      },
      "outputs": [
        {
          "output_type": "display_data",
          "data": {
            "text/plain": [
              "<Figure size 640x480 with 1 Axes>"
            ],
            "image/png": "[encoded data removed]"
          },
          "metadata": {}
        }
      ],
      "source": [
        "plt.plot(range(n_episodes), random_rewards_per_episode)\n",
        "plt.xlabel(\"Iterations\")\n",
        "plt.ylabel(\"Reward\")\n",
        "plt.show()"
      ]
    },
  {
   "cell_type": "markdown",
   "metadata": {},
   "source": [
    "### Deep Q-Learning results"
   ]
  },
  {
   "cell_type": "code",
   "execution_count": 29,
   "metadata": {
    "tags": []
   },
   "outputs": [
    {
     "data": {
      "text/plain": [
       "(2320.926837, 381.50851631010875)"
      ]
     },
     "execution_count": 29,
     "metadata": {},
     "output_type": "execute_result"
    }
   ],
   "source": [
    "np.mean(rewards_per_episode),np.std(rewards_per_episode)"
   ]
  },
  {
   "cell_type": "markdown",
   "metadata": {},
   "source": [
    "### Double Deep Q-Learning results"
   ]
  },
  {
   "cell_type": "code",
   "execution_count": 30,
   "metadata": {
    "tags": []
   },
   "outputs": [
    {
     "data": {
      "text/plain": [
       "(2314.112771, 386.1961412368029)"
      ]
     },
     "execution_count": 30,
     "metadata": {},
     "output_type": "execute_result"
    }
   ],
   "source": [
    "np.mean(n_rewards_per_episode),np.std(n_rewards_per_episode)"
   ]
  },
  {
   "cell_type": "markdown",
   "metadata": {},
   "source": [
    "### Random Results"
   ]
  },
  {
      "cell_type": "code",
      "execution_count": 31,
      "metadata": {
        "tags": [],
        "id": "h3oFT5l5pPvT",
        "outputId": "f0491b7e-bb30-45ea-af8d-600ab83d1274",
        "colab": {
          "base_uri": "https://localhost:8080/"
        }
      },
      "outputs": [
        {
          "output_type": "execute_result",
          "data": {
            "text/plain": [
              "(1632.196143, 356.37343747782126)"
            ]
          },
          "metadata": {},
          "execution_count": 31
        }
      ],
      "source": [
        "np.mean(random_rewards_per_episode),np.std(random_rewards_per_episode)"
      ]
    },
  {
   "cell_type": "markdown",
   "metadata": {},
   "source": [
    "# SARSA"
   ]
  },
  {
      "cell_type": "code",
      "execution_count": null,
      "metadata": {
        "id": "sJ-q-Wt2rg8M"
      },
      "outputs": [],
      "source": [
        "class SARSAAgent:\n",
        "    def __init__(self, state_size, action_size, learning_rate=0.1, discount_factor=0.9, epsilon=1.0, epsilon_decay=0.995, epsilon_min=0.01):\n",
        "        self.state_size = state_size\n",
        "        self.action_size = action_size\n",
        "        self.epsilon = epsilon\n",
        "        self.epsilon_min = epsilon_min\n",
        "        self.epsilon_decay = epsilon_decay\n",
        "        self.learning_rate = learning_rate\n",
        "        self.discount_factor = discount_factor\n",
        "\n",
        "        self.q_table = np.zeros((state_size, action_size))\n",
        "\n",
        "    def choose_action(self, state, available_actions):\n",
        "        \"\"\"Choose an action based on the state using an epsilon-greedy policy.\"\"\"\n",
        "        if np.random.rand() <= self.epsilon:\n",
        "            return random.choice(available_actions)\n",
        "        else:\n",
        "            q_values = self.q_table[state, :]\n",
        "            max_value = np.max(q_values[available_actions])\n",
        "            best_actions = [action for action in available_actions if q_values[action] == max_value]\n",
        "            return random.choice(best_actions)\n",
        "\n",
        "    def update_q_value(self, state, action, reward, next_state, next_action):\n",
        "        \"\"\"Update the Q-table using the SARSA update rule.\"\"\"\n",
        "        predict = self.q_table[state, action]\n",
        "        target = reward + self.discount_factor * self.q_table[next_state, next_action]\n",
        "        self.q_table[state, action] += self.learning_rate * (target - predict)\n",
        "\n",
        "    def update_epsilon(self):\n",
        "        \"\"\"Update epsilon using exponential decay to reduce the exploration rate over time.\"\"\"\n",
        "        if self.epsilon > self.epsilon_min:\n",
        "            self.epsilon *= self.epsilon_decay\n",
        "\n",
        "    def save(self, path='sarsa_q_table.npy'):\n",
        "        \"\"\"Save the trained Q-table for later use.\"\"\"\n",
        "        np.save(path, self.q_table)\n",
        "\n",
        "    def load(self, path='sarsa_q_table.npy'):\n",
        "        \"\"\"Load a Q-table from disk.\"\"\"\n",
        "        self.q_table = np.load(path)"
      ]
    },
    {
      "cell_type": "code",
      "source": [
        "episode_time = 24*60*60\n",
        "n_episodes = 5000\n",
        "max_steps = 200\n",
        "env = CabDriver(zipcodes=zipcodes, cost = 3)\n",
        "action_space, state_space, state = env.reset()\n",
        "\n",
        "state_size = len(state_space)\n",
        "print(state_size)\n",
        "action_size = len(action_space)\n",
        "print(action_size)\n",
        "\n",
        "# Invoke agent class\n",
        "sarsa_agent = SARSAAgent(state_size=state_size, action_size=action_size)\n",
        "sarsa_rewards_per_episode, episodes = [], []\n",
        "actions_taken = []\n",
        "\n",
        "def state_to_index(state, t=24, m=60, zipcodes=None):\n",
        "    hour, minute, location = state\n",
        "    location_index = zipcodes.index(location) if zipcodes is not None and location in zipcodes else location\n",
        "    return hour * (m * len(zipcodes)) + minute * len(zipcodes) + location_index"
      ],
      "metadata": {
        "colab": {
          "base_uri": "https://localhost:8080/"
        },
        "id": "ied9IxBLr20T",
        "outputId": "706a3c09-1f1a-4951-bf92-df05f914cdcd"
      },
      "execution_count": null,
      "outputs": [
        {
          "output_type": "stream",
          "name": "stdout",
          "text": [
            "898560\n",
            "389377\n"
          ]
        }
      ]
    },
    {
      "cell_type": "code",
      "source": [
        "for episode in range(n_episodes):\n",
        "    _, _, sarsa_state = env.reset()\n",
        "    sarsa_score = 0\n",
        "    available_actions = env.requests(sarsa_state)\n",
        "    state_index = state_to_index(sarsa_state, zipcodes=env.zipcodes)\n",
        "    available_action_indices = [env.action_space.index(action) for action in available_actions]\n",
        "    sarsa_action = sarsa_agent.choose_action(state_index, available_action_indices)\n",
        "\n",
        "    for step in range(max_steps):\n",
        "        actions_taken.append(sarsa_action)\n",
        "        sarsa_reward, sarsa_next_state, _ = env.step(sarsa_state, env.action_space[sarsa_action])\n",
        "        sarsa_next_state_hour, sarsa_next_state_min, _ = sarsa_next_state\n",
        "\n",
        "        if (sarsa_next_state_hour * 3600 + sarsa_next_state_min * 60 >= episode_time):\n",
        "            break\n",
        "\n",
        "        available_next_actions = env.requests(sarsa_next_state)\n",
        "        next_state_index = state_to_index(sarsa_next_state, zipcodes=env.zipcodes)\n",
        "        available_next_action_indices = [env.action_space.index(action) for action in available_next_actions]\n",
        "        sarsa_next_action = sarsa_agent.choose_action(next_state_index, available_next_action_indices)\n",
        "\n",
        "        sarsa_agent.update_q_value(sarsa_state, sarsa_action,\n",
        "                                   sarsa_reward, sarsa_next_state, sarsa_next_action)\n",
        "\n",
        "        sarsa_state = sarsa_next_state\n",
        "        sarsa_action = sarsa_next_action\n",
        "        sarsa_score += sarsa_reward\n",
        "\n",
        "    sarsa_rewards_per_episode.append(sarsa_score)\n",
        "    sarsa_agent.update_epsilon()\n",
        "\n",
        "    if episode % 100 == 0:\n",
        "        print(f\"SARSA Episode {episode}: Reward = {sarsa_score}\")\n",
        "        # sarsa_agent.save(f'sarsa_q_table_{episode}.npy')"
      ],
      "metadata": {
        "colab": {
          "base_uri": "https://localhost:8080/"
        },
        "id": "obiS_EvPsAyU",
        "outputId": "631c8c0c-5d3d-489a-96b2-f765c396932a"
      },
      "execution_count": 10,
      "outputs": [
        {
          "output_type": "stream",
          "name": "stdout",
          "text": [
            "SARSA Episode 0: Reward = 2052.8\n",
            "SARSA Episode 100: Reward = 1961.4499999999998\n",
            "SARSA Episode 200: Reward = 2652.17\n",
            "SARSA Episode 300: Reward = 1505.7999999999997\n",
            "SARSA Episode 400: Reward = 2125.21\n",
            "SARSA Episode 500: Reward = 1914.55\n",
            "SARSA Episode 600: Reward = 1553.8\n",
            "SARSA Episode 700: Reward = 1134.1100000000001\n",
            "SARSA Episode 800: Reward = 2998.79\n",
            "SARSA Episode 900: Reward = 1951.65\n",
            "SARSA Episode 1000: Reward = 3233.5200000000004\n",
            "SARSA Episode 1100: Reward = 1299.7999999999997\n",
            "SARSA Episode 1200: Reward = 1525.16\n",
            "SARSA Episode 1300: Reward = 1506.4499999999998\n",
            "SARSA Episode 1400: Reward = 2630.5499999999997\n",
            "SARSA Episode 1500: Reward = 1777.1599999999999\n",
            "SARSA Episode 1600: Reward = 1937.8400000000001\n",
            "SARSA Episode 1700: Reward = 1764.3\n",
            "SARSA Episode 1800: Reward = 2390.125\n",
            "SARSA Episode 1900: Reward = 1693.85\n",
            "SARSA Episode 2000: Reward = 1816.7599999999998\n",
            "SARSA Episode 2100: Reward = 1671.81\n",
            "SARSA Episode 2200: Reward = 1499.3\n",
            "SARSA Episode 2300: Reward = 1709.1299999999999\n",
            "SARSA Episode 2400: Reward = 1798.255\n",
            "SARSA Episode 2500: Reward = 2132.91\n",
            "SARSA Episode 2600: Reward = 1647.6999999999998\n",
            "SARSA Episode 2700: Reward = 2216.4799999999996\n",
            "SARSA Episode 2800: Reward = 1450.06\n",
            "SARSA Episode 2900: Reward = 1712.6999999999998\n",
            "SARSA Episode 3000: Reward = 2033.4\n",
            "SARSA Episode 3100: Reward = 1846.9499999999998\n",
            "SARSA Episode 3200: Reward = 2165.0\n",
            "SARSA Episode 3300: Reward = 1675.11\n",
            "SARSA Episode 3400: Reward = 1276.6599999999999\n",
            "SARSA Episode 3500: Reward = 2614.45\n",
            "SARSA Episode 3600: Reward = 1434.35\n",
            "SARSA Episode 3700: Reward = 2251.25\n",
            "SARSA Episode 3800: Reward = 1862.1\n",
            "SARSA Episode 3900: Reward = 1965.96\n",
            "SARSA Episode 4000: Reward = 1442.95\n",
            "SARSA Episode 4100: Reward = 1939.22\n",
            "SARSA Episode 4200: Reward = 1637.1\n",
            "SARSA Episode 4300: Reward = 1756.7000000000003\n",
            "SARSA Episode 4400: Reward = 2033.45\n",
            "SARSA Episode 4500: Reward = 1716.55\n",
            "SARSA Episode 4600: Reward = 1448.8999999999999\n",
            "SARSA Episode 4700: Reward = 1942.9999999999998\n",
            "SARSA Episode 4800: Reward = 2529.3900000000003\n",
            "SARSA Episode 4900: Reward = 2144.6\n"
          ]
        }
      ]
    },
    {
      "cell_type": "code",
      "source": [
        "import matplotlib.pyplot as plt\n",
        "\n",
        "# plt.figure(figsize=(12, 5))\n",
        "plt.plot(range(len(sarsa_rewards_per_episode)), sarsa_rewards_per_episode, label='Reward per Episode')\n",
        "plt.xlabel('Episode')\n",
        "plt.ylabel('Total Reward')\n",
        "plt.title('Rewards per Episode')\n",
        "plt.legend()\n",
        "plt.show()\n"
      ],
      "metadata": {
        "colab": {
          "base_uri": "https://localhost:8080/",
          "height": 472
        },
        "id": "5ElymX2fsEAL",
        "outputId": "e2af7948-c36f-45a5-b5c5-8820470fd58f"
      },
      "execution_count": 14,
      "outputs": [
        {
          "output_type": "display_data",
          "data": {
            "text/plain": [
              "<Figure size 640x480 with 1 Axes>"
            ],
            "image/png": "[encoded data removed]"
          },
          "metadata": {}
        }
      ]
    },
    {
      "cell_type": "code",
      "source": [
        "print(np.mean(sarsa_rewards_per_episode), np.std(sarsa_rewards_per_episode))"
      ],
      "metadata": {
        "colab": {
          "base_uri": "https://localhost:8080/"
        },
        "id": "Ed7_aM3ImuMs",
        "outputId": "170fc927-b08a-486b-88f2-2413b758300e"
      },
      "execution_count": 20,
      "outputs": [
        {
          "output_type": "stream",
          "name": "stdout",
          "text": [
            "1861.2253529962547 358.46985922334244\n"
          ]
        }
      ]
    },
  {
   "cell_type": "markdown",
   "metadata": {},
   "source": [
    "# Q-Learning"
   ]
  },
  {
      "cell_type": "code",
      "execution_count": null,
      "metadata": {
        "id": "1i8_NY1ac4Nb",
        "tags": []
      },
      "outputs": [],
      "source": [
        "class QLearningAgent():\n",
        "    def __init__(self, state_size, action_size, learning_rate=0.1, discount_factor=0.9, epsilon=1.0, epsilon_decay=0.995, epsilon_min=0.01):\n",
        "        self.state_size = state_size\n",
        "        self.action_size = action_size\n",
        "        self.epsilon = epsilon\n",
        "        self.epsilon_min = epsilon_min\n",
        "        self.epsilon_decay = epsilon_decay\n",
        "        self.learning_rate = learning_rate\n",
        "        self.discount_factor = discount_factor\n",
        "\n",
        "        self.q_table = np.zeros((state_size, action_size))\n",
        "\n",
        "    def choose_action(self, state, available_actions):\n",
        "      \"\"\"Choose an action based on the state using an epsilon-greedy policy.\"\"\"\n",
        "      if np.random.rand() <= self.epsilon:\n",
        "          return random.choice(available_actions)\n",
        "      else:\n",
        "          q_values = self.q_table[state, :]\n",
        "          max_value = np.max(q_values[available_actions])\n",
        "          best_actions = [action for action in available_actions if q_values[action] == max_value]\n",
        "          return random.choice(best_actions)\n",
        "\n",
        "    def update_q_value(self, state, action, reward, next_state):\n",
        "        \"\"\"Update the Q-table using the Q-learning update rule.\"\"\"\n",
        "        # Getting prediction\n",
        "        predict = self.q_table[state, action]\n",
        "        # We assume all actions are available for the next state for simplification\n",
        "        target = reward + self.discount_factor * np.max(self.q_table[next_state])\n",
        "        self.q_table[state, action] += self.learning_rate * (target - predict)\n",
        "\n",
        "    def update_epsilon(self):\n",
        "        \"\"\"Update epsilon using exponential decay to reduce the exploration rate over time.\"\"\"\n",
        "        if self.epsilon > self.epsilon_min:\n",
        "            self.epsilon *= self.epsilon_decay"
      ]
    },
    {
      "cell_type": "code",
      "execution_count": null,
      "metadata": {
        "colab": {
          "base_uri": "https://localhost:8080/"
        },
        "id": "_uHZaKxhjzU9",
        "outputId": "2f2eea54-04c8-46e3-ffb5-72c2cc2e6389",
        "tags": []
      },
      "outputs": [
        {
          "output_type": "stream",
          "name": "stdout",
          "text": [
            "898560\n",
            "389377\n"
          ]
        }
      ],
      "source": [
        "episode_time = 24*60*60\n",
        "n_episodes = 5000\n",
        "max_steps = 200\n",
        "env = CabDriver(zipcodes=zipcodes, cost = 3)\n",
        "action_space, state_space, state = env.reset()\n",
        "\n",
        "state_size = len(state_space)\n",
        "print(state_size)\n",
        "action_size = len(action_space)\n",
        "print(action_size)\n",
        "\n",
        "# Invoke agent class\n",
        "q_learning_agent = QLearningAgent(state_size=state_size, action_size=action_size)\n",
        "q_learning_rewards_per_episode, episodes = [], []\n",
        "\n",
        "def state_to_index(state, t=24, m=60, zipcodes=None):\n",
        "    hour, minute, location = state\n",
        "    location_index = zipcodes.index(location) if zipcodes is not None and location in zipcodes else location\n",
        "    return hour * (m * len(zipcodes)) + minute * len(zipcodes) + location_index"
      ]
    },
    {
      "cell_type": "code",
      "execution_count": null,
      "metadata": {
        "colab": {
          "base_uri": "https://localhost:8080/"
        },
        "id": "x8zMxWkNc4Nb",
        "outputId": "bfe01c88-cee3-4d55-a7af-f78a875d4396",
        "tags": []
      },
      "outputs": [
        {
          "output_type": "stream",
          "name": "stdout",
          "text": [
            "Q-learning Episode 0: Reward = 759.78\n",
            "Q-learning Episode 100: Reward = 703.4\n",
            "Q-learning Episode 200: Reward = 1129.35\n",
            "Q-learning Episode 300: Reward = 999.25\n",
            "Q-learning Episode 400: Reward = 1252.8999999999999\n",
            "Q-learning Episode 500: Reward = 1209.66\n",
            "Q-learning Episode 600: Reward = 1068.31\n",
            "Q-learning Episode 700: Reward = 1068.31\n",
            "Q-learning Episode 800: Reward = 1068.31\n",
            "Q-learning Episode 900: Reward = 1068.31\n",
            "Q-learning Episode 1000: Reward = 1068.31\n",
            "Q-learning Episode 1100: Reward = 1068.31\n",
            "Q-learning Episode 1200: Reward = 1010.6500000000001\n",
            "Q-learning Episode 1300: Reward = 1068.31\n",
            "Q-learning Episode 1400: Reward = 1068.31\n",
            "Q-learning Episode 1500: Reward = 1068.31\n",
            "Q-learning Episode 1600: Reward = 1068.31\n",
            "Q-learning Episode 1700: Reward = 1068.31\n",
            "Q-learning Episode 1800: Reward = 1068.31\n",
            "Q-learning Episode 1900: Reward = 1068.31\n",
            "Q-learning Episode 2000: Reward = 1068.31\n",
            "Q-learning Episode 2100: Reward = 1068.31\n",
            "Q-learning Episode 2200: Reward = 1068.31\n",
            "Q-learning Episode 2300: Reward = 1068.31\n",
            "Q-learning Episode 2400: Reward = 1068.31\n",
            "Q-learning Episode 2500: Reward = 1068.31\n",
            "Q-learning Episode 2600: Reward = 1068.31\n",
            "Q-learning Episode 2700: Reward = 1068.31\n",
            "Q-learning Episode 2800: Reward = 1068.31\n",
            "Q-learning Episode 2900: Reward = 1068.31\n",
            "Q-learning Episode 3000: Reward = 1068.31\n",
            "Q-learning Episode 3100: Reward = 1068.31\n",
            "Q-learning Episode 3200: Reward = 1068.31\n",
            "Q-learning Episode 3300: Reward = 1068.31\n",
            "Q-learning Episode 3400: Reward = 1068.31\n",
            "Q-learning Episode 3500: Reward = 1068.31\n",
            "Q-learning Episode 3600: Reward = 1068.31\n",
            "Q-learning Episode 3700: Reward = 1068.31\n",
            "Q-learning Episode 3800: Reward = 1068.31\n",
            "Q-learning Episode 3900: Reward = 1068.31\n",
            "Q-learning Episode 4000: Reward = 1068.31\n",
            "Q-learning Episode 4100: Reward = 1066.6\n",
            "Q-learning Episode 4200: Reward = 1068.31\n",
            "Q-learning Episode 4300: Reward = 1068.31\n",
            "Q-learning Episode 4400: Reward = 1068.31\n",
            "Q-learning Episode 4500: Reward = 1068.31\n",
            "Q-learning Episode 4600: Reward = 1870.9499999999998\n",
            "Q-learning Episode 4700: Reward = 1068.31\n",
            "Q-learning Episode 4800: Reward = 1068.31\n",
            "Q-learning Episode 4900: Reward = 1068.31\n"
          ]
        }
      ],
      "source": [
        "for episode in range(n_episodes):\n",
        "    _, _, q_learning_state = env.reset()\n",
        "    q_learning_score = 0\n",
        "\n",
        "    for step in range(max_steps):\n",
        "\n",
        "      available_actions = env.requests(q_learning_state)\n",
        "      state_index = state_to_index(q_learning_state, zipcodes=env.zipcodes)\n",
        "      available_action_indices = [env.action_space.index(action) for action in available_actions]\n",
        "      q_learning_action = q_learning_agent.choose_action(state_index, available_action_indices)\n",
        "\n",
        "      q_learning_reward, q_learning_next_state, _ = env.step(q_learning_state, env.action_space[q_learning_action])\n",
        "      q_learning_next_state_hour, q_learning_next_state_min, _ = q_learning_next_state\n",
        "\n",
        "      # Day is over\n",
        "      if (q_learning_next_state_hour * 3600 + q_learning_next_state_min * 60 >= episode_time):\n",
        "          break\n",
        "\n",
        "      next_state_index = state_to_index(q_learning_next_state, zipcodes=env.zipcodes)\n",
        "\n",
        "      q_learning_agent.update_q_value(state_index, q_learning_action,\n",
        "                                   q_learning_reward, next_state_index)\n",
        "\n",
        "      q_learning_state = q_learning_next_state\n",
        "      q_learning_score += q_learning_reward\n",
        "\n",
        "    q_learning_rewards_per_episode.append(q_learning_score)\n",
        "    q_learning_agent.update_epsilon()\n",
        "\n",
        "    if episode % 100 == 0:\n",
        "        print(f\"Q-learning Episode {episode}: Reward = {q_learning_score}\")\n",
        "        # sarsa_agent.save(f'sarsa_q_table_{episode}.npy')"
      ]
    },
    {
      "cell_type": "code",
      "execution_count": null,
      "metadata": {
        "colab": {
          "base_uri": "https://localhost:8080/",
          "height": 489
        },
        "id": "Ef55gutyc4Nb",
        "outputId": "ec5c445f-8a70-46b3-e05a-6bfddce57445",
        "tags": []
      },
      "outputs": [
        {
          "output_type": "execute_result",
          "data": {
            "text/plain": [
              "Text(0.5, 1.0, 'Rewards per Episode')"
            ]
          },
          "metadata": {},
          "execution_count": 22
        },
        {
          "output_type": "display_data",
          "data": {
            "text/plain": [
              "<Figure size 640x480 with 1 Axes>"
            ],
            "image/png": "[encoded data removed]"
          },
          "metadata": {}
        }
      ],
      "source": [
        "plt.plot(range(5000), q_learning_rewards_per_episode, label=\"Reward per Episode\")\n",
        "plt.xlabel(\"Episode\")\n",
        "plt.ylabel(\"Total Reward\")\n",
        "plt.title(\"Rewards per Episode\")"
      ]
    },
    {
      "cell_type": "code",
      "execution_count": null,
      "metadata": {
        "id": "Pqq4I32n0E6s",
        "colab": {
          "base_uri": "https://localhost:8080/"
        },
        "outputId": "3e819d19-9fd0-444f-d00f-1e3fa6449f47"
      },
      "outputs": [
        {
          "output_type": "stream",
          "name": "stdout",
          "text": [
            "Q-Learning mean: 1074.5356619999998, std: 112.91775818976284\n"
          ]
        }
      ],
      "source": [
        "print(f\"Q-Learning mean: {np.mean(q_learning_rewards_per_episode)}, std: {np.std(q_learning_rewards_per_episode)}\")"
      ]
    }
 ],
 "metadata": {
  "accelerator": "GPU",
  "colab": {
   "gpuType": "T4",
   "provenance": []
  },
  "kernelspec": {
   "display_name": "Python 3 (ipykernel)",
   "language": "python",
   "name": "python3"
  },
  "language_info": {
   "codemirror_mode": {
    "name": "ipython",
    "version": 3
   },
   "file_extension": ".py",
   "mimetype": "text/x-python",
   "name": "python",
   "nbconvert_exporter": "python",
   "pygments_lexer": "ipython3",
   "version": "3.11.3"
  }
 },
 "nbformat": 4,
 "nbformat_minor": 4
}
